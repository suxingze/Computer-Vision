{
 "cells": [
  {
   "cell_type": "markdown",
   "metadata": {
    "id": "64B195mdjxQd"
   },
   "source": [
    "# Automatic Number Plate Recognition using Ultralytics YOLO11 + OpenAI `gpt-4o-mini`\n",
    "\n",
    "This notebook provides a comprehensive guide to implementing automatic number plate recognition (ANPR) using the YOLO11 model in combination with `gpt-4o-mini`.\n",
    "\n",
    "## What is Automatic Number Plate Recognition (ANPR)?\n",
    "Automatic number plate recognition is a technology designed to identify and extract vehicle number plate information from images or videos. By leveraging the powerful capabilities of Ultralytics YOLO11 for object detection and OpenAI `gpt-4o-mini` for text recognition, ANPR becomes an efficient solution for automating vehicle identification tasks.\n",
    "\n",
    "## Why Use YOLO11 + GPT-4o-Mini for ANPR?\n",
    "\n",
    "- Accurate Detection: YOLO11’s object detection capabilities ensure precise localization of license plates in various conditions, such as low light or high-speed movement.\n",
    "\n",
    "- Seamless Text Recognition: With `gpt-4o-mini`, extracted license plate regions are processed to recognize alphanumeric text accurately, even with variations in font, angle, or clarity.\n",
    "\n",
    "- Real-Time Processing: The integration allows for real-time vehicle monitoring, making it ideal for applications in traffic management, parking systems, and security surveillance.🚗"
   ]
  },
  {
   "cell_type": "markdown",
   "metadata": {
    "id": "o68Sg1oOeZm2"
   },
   "source": [
    "### Setup\n",
    "\n",
    "pip install `ultralytics` and [dependencies](https://github.com/ultralytics/ultralytics/blob/main/pyproject.toml) and check software and hardware.\n",
    "\n",
    "[![PyPI - Version](https://img.shields.io/pypi/v/ultralytics?logo=pypi&logoColor=white)](https://pypi.org/project/ultralytics/) [![Downloads](https://static.pepy.tech/badge/ultralytics)](https://clickpy.clickhouse.com/dashboard/ultralytics) [![PyPI - Python Version](https://img.shields.io/pypi/pyversions/ultralytics?logo=python&logoColor=gold)](https://pypi.org/project/ultralytics/)"
   ]
  },
  {
   "cell_type": "code",
   "execution_count": 1,
   "metadata": {
    "colab": {
     "base_uri": "https://localhost:8080/"
    },
    "id": "9dSwz_uOReMI",
    "outputId": "4d9f8b80-e625-4596-bd69-3178433fa11d"
   },
   "outputs": [
    {
     "name": "stdout",
     "output_type": "stream",
     "text": [
      "Ultralytics 8.3.192  Python-3.13.1 torch-2.7.1+cu118 CUDA:0 (NVIDIA GeForce RTX 4060 Laptop GPU, 8188MiB)\n",
      "Setup complete  (32 CPUs, 31.6 GB RAM, 30.7/195.3 GB disk)\n"
     ]
    }
   ],
   "source": [
    "!uv pip install ultralytics\n",
    "\n",
    "import base64\n",
    "\n",
    "import cv2\n",
    "import ultralytics\n",
    "from openai import OpenAI\n",
    "from ultralytics import YOLO\n",
    "from ultralytics.utils.downloads import safe_download\n",
    "from ultralytics.utils.plotting import Annotator, colors\n",
    "\n",
    "ultralytics.checks()"
   ]
  },
  {
   "cell_type": "markdown",
   "metadata": {
    "id": "IIZw8IJOk3Lb"
   },
   "source": [
    "### Download the Video and Model File\n",
    "\n",
    "Download the sample video we’ll use for processing. If you prefer to use your own video file, downloading the sample is not necessary.  \n",
    "\n",
    "✅ We’ll download a license plate detection model `anpr-demo-model.pt` trained on a small dataset, designed to detect license plates in the sample video. You are welcome to use your own custom models as well.  \n",
    "\n",
    "⚠️ Note: This license plate detection model `anpr-demo-model.pt` is intended solely for proof of concept (POC) purposes and may only work with `anpr-demo-video.mp4`."
   ]
  },
  {
   "cell_type": "code",
   "execution_count": 2,
   "metadata": {
    "colab": {
     "base_uri": "https://localhost:8080/"
    },
    "id": "wkajxl6nlObU",
    "outputId": "ba3ab1a6-72f7-41eb-a1a1-41d55073261f"
   },
   "outputs": [
    {
     "name": "stdout",
     "output_type": "stream",
     "text": [
      "\u001b[KDownloading https://ultralytics.com/assets/anpr-demo-video.mp4 to 'anpr-demo-video.mp4': 100% ━━━━━━━━━━━━ 9.5/9.5MB 19.1MB/s 0.5s0.1s\n",
      "\u001b[KDownloading https://ultralytics.com/assets/anpr-demo-model.pt to 'anpr-demo-model.pt': 100% ━━━━━━━━━━━━ 5.2/5.2MB 23.4MB/s 0.2s0.0s\n"
     ]
    },
    {
     "data": {
      "text/plain": [
       "WindowsPath('anpr-demo-model.pt')"
      ]
     },
     "execution_count": 2,
     "metadata": {},
     "output_type": "execute_result"
    }
   ],
   "source": [
    "# download the sample video file\n",
    "safe_download(\"https://github.com/ultralytics/assets/releases/download/v0.0.0/anpr-demo-video.mp4\")\n",
    "\n",
    "# download the sample model file\n",
    "safe_download(\"https://github.com/ultralytics/assets/releases/download/v0.0.0/anpr-demo-model.pt\")"
   ]
  },
  {
   "cell_type": "markdown",
   "metadata": {
    "id": "qpKaC03TZDlr"
   },
   "source": [
    "### Read the Video and Model File\n",
    "\n",
    "You can either read the video file directly or stream content from an RTSP (Real-Time Streaming Protocol) source, offering flexible video input options to meet your requirements.\n",
    "\n",
    "✅ By default, we will use the demo video `anpr-demo-video.mp4` downloaded in the previous step. Additionally, we’ll set up the video writer to manage the output video processing.\n",
    "\n",
    "✅ The model `anpr-demo-model.pt` will also be initialized in memory to handle the processing. You can also use your own model for license plate detection."
   ]
  },
  {
   "cell_type": "code",
   "execution_count": 3,
   "metadata": {
    "id": "2daZuXgaZDFH"
   },
   "outputs": [],
   "source": [
    "cap = cv2.VideoCapture(\"anpr-demo-video.mp4\")\n",
    "assert cap.isOpened(), \"Error reading video file\"\n",
    "\n",
    "# Video writer\n",
    "w, h, fps = (int(cap.get(x)) for x in (cv2.CAP_PROP_FRAME_WIDTH, cv2.CAP_PROP_FRAME_HEIGHT, cv2.CAP_PROP_FPS))\n",
    "video_writer = cv2.VideoWriter(\"anpr-output.avi\", cv2.VideoWriter_fourcc(*\"mp4v\"), fps, (w, h))\n",
    "\n",
    "# Load the Ultralytics YOLO license plate detection model\n",
    "model = YOLO(\"anpr-demo-model.pt\")"
   ]
  },
  {
   "cell_type": "markdown",
   "metadata": {
    "id": "e0QOXawB2-Zw"
   },
   "source": [
    "<img align=\"left\" src=\"https://github.com/user-attachments/assets/101152c3-25ba-48a7-9916-c32c3be5857e\" height=\"640\">"
   ]
  },
  {
   "cell_type": "markdown",
   "metadata": {
    "id": "I8MS12NZuooP"
   },
   "source": [
    "### Configure OpenAI Client\n",
    "\n",
    "It’s time to configure the OpenAI client that will accept `base64` image data, extract the number plate text, and return it as a response. The configuration allows you to adjust the content sent to the OpenAI model, and you can also choose different models, such as `gpt-4o`.\n",
    "\n",
    "⚠️ For the API key, i.e., `OpenAI(api_key=\"api_key\")`, you'll need to visit the [OpenAI API key settings page](https://platform.openai.com/settings/organization/api-keys) and generate an API key for use.\n",
    "\n",
    "The `extract_text` function is designed to process a base64-encoded image containing a vehicle's number plate.\n",
    "\n",
    "✅ It sends the image data to the OpenAI client using the `gpt-4o-mini` model and requests the extraction of only the license plate text.\n",
    "\n",
    "✅ If the text cannot be extracted, the function ensures a response of None. -\n",
    "\n",
    "✅ Additionally, it filters out any text written near the license plate to provide accurate results."
   ]
  },
  {
   "cell_type": "code",
   "execution_count": null,
   "metadata": {
    "id": "RPXlG6IKticF"
   },
   "outputs": [],
   "source": [
    "client = OpenAI(api_key=\"\")\n",
    "\n",
    "# Define the text prompt\n",
    "prompt = \"\"\"\n",
    "Can you extract the vehicle number plate text inside the image?\n",
    "If you are not able to extract text, please respond with None.  # Fallback instruction\n",
    "Only output text, please.  # Ensure no extra formatting\n",
    "If any text character is not from the English language, replace it with a dot (.)  # Handle non-English characters, because OpenCV directly can't process these.\n",
    "\"\"\"\n",
    "\n",
    "\n",
    "def extract_text(base64_encoded_data):\n",
    "    response = client.chat.completions.create(\n",
    "        model=\"gpt-4o-mini\",\n",
    "        messages=[\n",
    "            {\n",
    "                \"role\": \"user\",\n",
    "                \"content\": [\n",
    "                    {\"type\": \"text\", \"text\": prompt},\n",
    "                    {\n",
    "                        \"type\": \"image_url\",\n",
    "                        \"image_url\": {\"url\": f\"data:image/jpeg;base64,{base64_encoded_data}\"},\n",
    "                    },\n",
    "                ],\n",
    "            }\n",
    "        ],\n",
    "    )\n",
    "    return response"
   ]
  },
  {
   "cell_type": "markdown",
   "metadata": {
    "id": "m7VkxQ2aeg7k"
   },
   "source": [
    "### Process Video Frames\n",
    "\n",
    "In this step, we will process video frames to detect objects, crop regions with padding, and extract license plate text using an OpenAI model. Here's how it works:\n",
    "\n",
    "✅ Frames are read using OpenCV, and objects are detected using the YOLO11 model.\n",
    "Bounding boxes are adjusted with padding to crop regions of interest while ensuring proper boundaries.\n",
    "\n",
    "✅ Cropped regions are encoded in base64 and sent to the `extract_text` function, which uses OpenAI’s model to retrieve license plate text.\n",
    "\n",
    "✅ The extracted text is added as a label to the bounding box on the video frame.\n",
    "\n",
    "✅ Processed frames are saved to an output video file."
   ]
  },
  {
   "cell_type": "code",
   "execution_count": 5,
   "metadata": {
    "colab": {
     "base_uri": "https://localhost:8080/"
    },
    "id": "Cx-u59HQdu2o",
    "outputId": "92d0ea98-de8f-47a5-df79-76b92585d8b3"
   },
   "outputs": [
    {
     "name": "stdout",
     "output_type": "stream",
     "text": [
      "\n",
      "0: 640x384 3 plates, 42.1ms\n",
      "Speed: 2.5ms preprocess, 42.1ms inference, 55.3ms postprocess per image at shape (1, 3, 640, 384)\n",
      "Extracted text: 5379MX-4\n",
      "Extracted text: H0.3MA.6\n",
      "Extracted text: 8864 KA-4\n",
      "\n",
      "0: 640x384 3 plates, 17.3ms\n",
      "Speed: 2.3ms preprocess, 17.3ms inference, 2.2ms postprocess per image at shape (1, 3, 640, 384)\n",
      "Extracted text: 5379MX-4\n",
      "Extracted text: 3031MA4.\n",
      "Extracted text: 0064 KA-4\n",
      "\n",
      "0: 640x384 4 plates, 17.3ms\n",
      "Speed: 1.8ms preprocess, 17.3ms inference, 2.6ms postprocess per image at shape (1, 3, 640, 384)\n",
      "Extracted text: 5379MX-4\n",
      "Extracted text: .JO.1.MA.\n",
      "Extracted text: 8064 KA.4\n",
      "Extracted text: None\n",
      "\n",
      "0: 640x384 4 plates, 17.3ms\n",
      "Speed: 1.8ms preprocess, 17.3ms inference, 2.8ms postprocess per image at shape (1, 3, 640, 384)\n",
      "Extracted text: 5379MX-4\n",
      "Extracted text: 8884 KA.4\n",
      "Extracted text: 3051MA.\n",
      "Extracted text: None\n",
      "\n",
      "0: 640x384 4 plates, 17.2ms\n",
      "Speed: 1.8ms preprocess, 17.2ms inference, 2.9ms postprocess per image at shape (1, 3, 640, 384)\n",
      "Extracted text: 5379MX-4\n",
      "Extracted text: 8884.KA.4\n",
      "Extracted text: 335M.A.\n",
      "Extracted text: None\n",
      "\n",
      "0: 640x384 6 plates, 17.3ms\n",
      "Speed: 1.9ms preprocess, 17.3ms inference, 4.4ms postprocess per image at shape (1, 3, 640, 384)\n",
      "Extracted text: 8884 K.A-4\n",
      "Extracted text: .5379MX-4\n",
      "Extracted text: 3.BY.3\n",
      "Extracted text: NONE\n",
      "Extracted text: NONE\n",
      "Extracted text: None\n",
      "\n",
      "0: 640x384 6 plates, 17.3ms\n",
      "Speed: 1.8ms preprocess, 17.3ms inference, 2.9ms postprocess per image at shape (1, 3, 640, 384)\n",
      "Extracted text: 8004 K.A-4\n",
      "Extracted text: 5379MX-4\n",
      "Extracted text: 39\n",
      "Extracted text: .339.MA.\n",
      "Extracted text: .33.1.M...\n",
      "Extracted text: .CC.M..\n",
      "\n",
      "0: 640x384 7 plates, 17.3ms\n",
      "Speed: 1.7ms preprocess, 17.3ms inference, 1.9ms postprocess per image at shape (1, 3, 640, 384)\n",
      "Extracted text: 5379MX-4\n",
      "Extracted text: BY 30\n",
      "Extracted text: 8804 K.A-4\n",
      "Extracted text: 8884 KATZ\n",
      "Extracted text: 8004 KAZ4\n",
      "Extracted text: None\n",
      "Extracted text: None\n",
      "\n",
      "0: 640x384 15 plates, 17.3ms\n",
      "Speed: 1.7ms preprocess, 17.3ms inference, 1.9ms postprocess per image at shape (1, 3, 640, 384)\n",
      "Extracted text: None\n",
      "Extracted text: 5379MX-4\n",
      "Extracted text: 5379MX-4\n",
      "Extracted text: 5379MX-4\n",
      "Extracted text: 5379MX-4\n",
      "Extracted text: 5379MX-4\n",
      "Extracted text: 8084 K.A-4\n",
      "Extracted text: 5379MX-4\n",
      "Extracted text: M.006.KA.7Z\n",
      "Extracted text: M.00\n",
      "Extracted text: 5379MX-4\n",
      "Extracted text: 5379MX-4\n",
      "Extracted text: None\n",
      "Extracted text: 5379MX-4\n",
      "Extracted text: 5379MX-4\n",
      "\n",
      "0: 640x384 6 plates, 17.3ms\n",
      "Speed: 2.1ms preprocess, 17.3ms inference, 3.9ms postprocess per image at shape (1, 3, 640, 384)\n",
      "Extracted text: 5379MX-4\n",
      "Extracted text: 8864 K.A-4\n",
      "Extracted text: BY 309\n",
      "Extracted text: None\n",
      "Extracted text: None\n",
      "Extracted text: None\n",
      "\n",
      "0: 640x384 5 plates, 17.3ms\n",
      "Speed: 2.1ms preprocess, 17.3ms inference, 6.2ms postprocess per image at shape (1, 3, 640, 384)\n",
      "Extracted text: 5379MX-4\n",
      "Extracted text: BY 306\n",
      "Extracted text: B054 K.A-4\n",
      "Extracted text: None\n",
      "Extracted text: None\n",
      "\n",
      "0: 640x384 7 plates, 17.2ms\n",
      "Speed: 1.8ms preprocess, 17.2ms inference, 3.1ms postprocess per image at shape (1, 3, 640, 384)\n",
      "Extracted text: .5379MX-4\n",
      "Extracted text: BY 306\n",
      "Extracted text: None\n",
      "Extracted text: 0004 K.A.4\n",
      "Extracted text: 0004.KA74\n",
      "Extracted text: BY 306\n",
      "Extracted text: B004KA4\n",
      "\n",
      "0: 640x384 6 plates, 17.3ms\n",
      "Speed: 1.8ms preprocess, 17.3ms inference, 2.4ms postprocess per image at shape (1, 3, 640, 384)\n",
      "Extracted text: .5379MX-4\n",
      "Extracted text: BY 3069\n",
      "Extracted text: None\n",
      "Extracted text: 8684 K.A-4\n",
      "Extracted text: B004 KA-4\n",
      "Extracted text: None\n",
      "\n",
      "0: 640x384 4 plates, 17.3ms\n",
      "Speed: 1.8ms preprocess, 17.3ms inference, 2.4ms postprocess per image at shape (1, 3, 640, 384)\n",
      "Extracted text: 5379MX-4\n",
      "Extracted text: BY 3066\n",
      "Extracted text: 8864 KA-6\n",
      "Extracted text: B.9.7.MA.\n",
      "\n",
      "0: 640x384 4 plates, 17.3ms\n",
      "Speed: 2.1ms preprocess, 17.3ms inference, 2.4ms postprocess per image at shape (1, 3, 640, 384)\n",
      "Extracted text: ST 3066\n",
      "Extracted text: 5379MX-4\n",
      "Extracted text: B694 KA-6\n",
      "Extracted text: None\n",
      "\n",
      "0: 640x384 4 plates, 17.2ms\n",
      "Speed: 2.1ms preprocess, 17.2ms inference, 2.6ms postprocess per image at shape (1, 3, 640, 384)\n",
      "Extracted text: 5379MX-4\n",
      "Extracted text: BY 3066V\n",
      "Extracted text: 8804 K.A-4\n",
      "Extracted text: B.563M4C\n",
      "\n",
      "0: 640x384 4 plates, 17.3ms\n",
      "Speed: 1.6ms preprocess, 17.3ms inference, 2.9ms postprocess per image at shape (1, 3, 640, 384)\n",
      "Extracted text: by 3066M\n",
      "Extracted text: .5379MX-4\n",
      "Extracted text: B004 .A.-6\n",
      "Extracted text: None\n",
      "\n",
      "0: 640x384 4 plates, 17.3ms\n",
      "Speed: 2.1ms preprocess, 17.3ms inference, 2.6ms postprocess per image at shape (1, 3, 640, 384)\n",
      "Extracted text: 5379MX-4\n",
      "Extracted text: BY 3066M\n",
      "Extracted text: None\n",
      "Extracted text: 8584 KA.6\n",
      "\n",
      "0: 640x384 4 plates, 17.3ms\n",
      "Speed: 1.9ms preprocess, 17.3ms inference, 2.6ms postprocess per image at shape (1, 3, 640, 384)\n",
      "Extracted text: 3066M.\n",
      "Extracted text: 5379MX-4\n",
      "Extracted text: None\n",
      "Extracted text: B.0084 KA-4\n",
      "\n",
      "0: 640x384 4 plates, 17.3ms\n",
      "Speed: 2.0ms preprocess, 17.3ms inference, 2.9ms postprocess per image at shape (1, 3, 640, 384)\n",
      "Extracted text: .5379MX-4\n",
      "Extracted text: BY 3066MF\n",
      "Extracted text: None\n",
      "Extracted text: B.004 K.A.4\n",
      "\n",
      "0: 640x384 3 plates, 17.3ms\n",
      "Speed: 1.9ms preprocess, 17.3ms inference, 2.3ms postprocess per image at shape (1, 3, 640, 384)\n",
      "Extracted text: 3066MP\n",
      "Extracted text: 5379MX-4\n",
      "Extracted text: None\n",
      "\n",
      "0: 640x384 4 plates, 17.3ms\n",
      "Speed: 2.1ms preprocess, 17.3ms inference, 3.6ms postprocess per image at shape (1, 3, 640, 384)\n",
      "Extracted text: 5379MX-4\n",
      "Extracted text: 3066MP.\n",
      "Extracted text: None\n",
      "Extracted text: B00.4 K.A.4.\n",
      "\n",
      "0: 640x384 5 plates, 17.3ms\n",
      "Speed: 1.7ms preprocess, 17.3ms inference, 3.9ms postprocess per image at shape (1, 3, 640, 384)\n",
      "Extracted text: 3066MP-\n",
      "Extracted text: 5379MX-4\n",
      "Extracted text: B.054 K.A.-4\n",
      "Extracted text: B.0044 KAT\n",
      "Extracted text: None\n",
      "\n",
      "0: 640x384 4 plates, 17.3ms\n",
      "Speed: 2.1ms preprocess, 17.3ms inference, 2.7ms postprocess per image at shape (1, 3, 640, 384)\n",
      "Extracted text: 5379MX-4\n",
      "Extracted text: 3066MP-4\n",
      "Extracted text: B054 KLA.4\n",
      "Extracted text: None\n",
      "\n",
      "0: 640x384 4 plates, 17.4ms\n",
      "Speed: 1.8ms preprocess, 17.4ms inference, 2.8ms postprocess per image at shape (1, 3, 640, 384)\n",
      "Extracted text: 5379MX-4\n",
      "Extracted text: 3066MP-4\n",
      "Extracted text: 0064 K.A-4\n",
      "Extracted text: None\n",
      "\n",
      "0: 640x384 4 plates, 17.4ms\n",
      "Speed: 2.0ms preprocess, 17.4ms inference, 2.8ms postprocess per image at shape (1, 3, 640, 384)\n",
      "Extracted text: 5379MX-.\n",
      "Extracted text: 3066MP-4\n",
      "Extracted text: B.54. K.L.A.6\n",
      "Extracted text: None\n",
      "\n",
      "0: 640x384 4 plates, 17.2ms\n",
      "Speed: 1.9ms preprocess, 17.2ms inference, 2.8ms postprocess per image at shape (1, 3, 640, 384)\n",
      "Extracted text: .5379MX\n",
      "Extracted text: 0084 K.A.4\n",
      "Extracted text: 3066MP-4\n",
      "Extracted text: None\n",
      "\n",
      "0: 640x384 4 plates, 17.3ms\n",
      "Speed: 1.9ms preprocess, 17.3ms inference, 3.3ms postprocess per image at shape (1, 3, 640, 384)\n",
      "Extracted text: .. 5379M\n",
      "Extracted text: 0006 K.A.R.4\n",
      "Extracted text: 3066MP-4\n",
      "Extracted text: None\n",
      "\n",
      "0: 640x384 4 plates, 17.3ms\n",
      "Speed: 1.8ms preprocess, 17.3ms inference, 2.7ms postprocess per image at shape (1, 3, 640, 384)\n",
      "Extracted text: . 5379M\n",
      "Extracted text: 2004 K.A.6\n",
      "Extracted text: 3066MP-4\n",
      "Extracted text: None\n",
      "\n",
      "0: 640x384 4 plates, 17.3ms\n",
      "Speed: 1.9ms preprocess, 17.3ms inference, 2.8ms postprocess per image at shape (1, 3, 640, 384)\n",
      "Extracted text: BY 5379\n",
      "Extracted text: 3066MP-4\n",
      "Extracted text: None\n",
      "Extracted text: None\n",
      "\n",
      "0: 640x384 5 plates, 17.3ms\n",
      "Speed: 2.2ms preprocess, 17.3ms inference, 3.7ms postprocess per image at shape (1, 3, 640, 384)\n",
      "Extracted text: BY 537\n",
      "Extracted text: 3066MP-4\n",
      "Extracted text: 0004.K.A.4\n",
      "Extracted text: None\n",
      "Extracted text: None\n",
      "\n",
      "0: 640x384 5 plates, 17.2ms\n",
      "Speed: 1.8ms preprocess, 17.2ms inference, 3.4ms postprocess per image at shape (1, 3, 640, 384)\n",
      "Extracted text: BY 53\n",
      "Extracted text: 3066MP-4\n",
      "Extracted text: G0.0N.1A.7.3\n",
      "Extracted text: None\n",
      "Extracted text: None\n",
      "\n",
      "0: 640x384 4 plates, 17.3ms\n",
      "Speed: 1.7ms preprocess, 17.3ms inference, 2.7ms postprocess per image at shape (1, 3, 640, 384)\n",
      "Extracted text: BY\n"
     ]
    },
    {
     "ename": "RateLimitError",
     "evalue": "Error code: 429 - {'error': {'message': 'Rate limit reached for gpt-4o-mini in organization org-tQSDtxvbq4HF6uV9Q01xVu6z on tokens per min (TPM): Limit 200000, Used 200000, Requested 860. Please try again in 258ms. Visit https://platform.openai.com/account/rate-limits to learn more.', 'type': 'tokens', 'param': None, 'code': 'rate_limit_exceeded'}}",
     "output_type": "error",
     "traceback": [
      "\u001b[1;31m---------------------------------------------------------------------------\u001b[0m",
      "\u001b[1;31mRateLimitError\u001b[0m                            Traceback (most recent call last)",
      "Cell \u001b[1;32mIn[5], line 30\u001b[0m\n\u001b[0;32m     27\u001b[0m \u001b[38;5;66;03m# Crop the object with padding and encode the numpy array to base64 format.\u001b[39;00m\n\u001b[0;32m     28\u001b[0m base64_im0 \u001b[38;5;241m=\u001b[39m base64\u001b[38;5;241m.\u001b[39mb64encode(cv2\u001b[38;5;241m.\u001b[39mimencode(\u001b[38;5;124m\"\u001b[39m\u001b[38;5;124m.jpg\u001b[39m\u001b[38;5;124m\"\u001b[39m, im0[y1:y2, x1:x2])[\u001b[38;5;241m1\u001b[39m])\u001b[38;5;241m.\u001b[39mdecode(\u001b[38;5;124m\"\u001b[39m\u001b[38;5;124mutf-8\u001b[39m\u001b[38;5;124m\"\u001b[39m)\n\u001b[1;32m---> 30\u001b[0m response \u001b[38;5;241m=\u001b[39m \u001b[43mextract_text\u001b[49m\u001b[43m(\u001b[49m\u001b[43mbase64_im0\u001b[49m\u001b[43m)\u001b[49m\u001b[38;5;241m.\u001b[39mchoices[\u001b[38;5;241m0\u001b[39m]\u001b[38;5;241m.\u001b[39mmessage\u001b[38;5;241m.\u001b[39mcontent\n\u001b[0;32m     32\u001b[0m \u001b[38;5;28mprint\u001b[39m(\u001b[38;5;124mf\u001b[39m\u001b[38;5;124m\"\u001b[39m\u001b[38;5;124mExtracted text: \u001b[39m\u001b[38;5;132;01m{\u001b[39;00mresponse\u001b[38;5;132;01m}\u001b[39;00m\u001b[38;5;124m\"\u001b[39m)\n\u001b[0;32m     34\u001b[0m ann\u001b[38;5;241m.\u001b[39mbox_label(box, label\u001b[38;5;241m=\u001b[39m\u001b[38;5;28mstr\u001b[39m(response), color\u001b[38;5;241m=\u001b[39mcolors(\u001b[38;5;28mcls\u001b[39m, \u001b[38;5;28;01mTrue\u001b[39;00m))  \u001b[38;5;66;03m# Draw the bounding boxes\u001b[39;00m\n",
      "Cell \u001b[1;32mIn[4], line 13\u001b[0m, in \u001b[0;36mextract_text\u001b[1;34m(base64_encoded_data)\u001b[0m\n\u001b[0;32m     12\u001b[0m \u001b[38;5;28;01mdef\u001b[39;00m\u001b[38;5;250m \u001b[39m\u001b[38;5;21mextract_text\u001b[39m(base64_encoded_data):\n\u001b[1;32m---> 13\u001b[0m     response \u001b[38;5;241m=\u001b[39m \u001b[43mclient\u001b[49m\u001b[38;5;241;43m.\u001b[39;49m\u001b[43mchat\u001b[49m\u001b[38;5;241;43m.\u001b[39;49m\u001b[43mcompletions\u001b[49m\u001b[38;5;241;43m.\u001b[39;49m\u001b[43mcreate\u001b[49m\u001b[43m(\u001b[49m\n\u001b[0;32m     14\u001b[0m \u001b[43m        \u001b[49m\u001b[43mmodel\u001b[49m\u001b[38;5;241;43m=\u001b[39;49m\u001b[38;5;124;43m\"\u001b[39;49m\u001b[38;5;124;43mgpt-4o-mini\u001b[39;49m\u001b[38;5;124;43m\"\u001b[39;49m\u001b[43m,\u001b[49m\n\u001b[0;32m     15\u001b[0m \u001b[43m        \u001b[49m\u001b[43mmessages\u001b[49m\u001b[38;5;241;43m=\u001b[39;49m\u001b[43m[\u001b[49m\n\u001b[0;32m     16\u001b[0m \u001b[43m            \u001b[49m\u001b[43m{\u001b[49m\n\u001b[0;32m     17\u001b[0m \u001b[43m                \u001b[49m\u001b[38;5;124;43m\"\u001b[39;49m\u001b[38;5;124;43mrole\u001b[39;49m\u001b[38;5;124;43m\"\u001b[39;49m\u001b[43m:\u001b[49m\u001b[43m \u001b[49m\u001b[38;5;124;43m\"\u001b[39;49m\u001b[38;5;124;43muser\u001b[39;49m\u001b[38;5;124;43m\"\u001b[39;49m\u001b[43m,\u001b[49m\n\u001b[0;32m     18\u001b[0m \u001b[43m                \u001b[49m\u001b[38;5;124;43m\"\u001b[39;49m\u001b[38;5;124;43mcontent\u001b[39;49m\u001b[38;5;124;43m\"\u001b[39;49m\u001b[43m:\u001b[49m\u001b[43m \u001b[49m\u001b[43m[\u001b[49m\n\u001b[0;32m     19\u001b[0m \u001b[43m                    \u001b[49m\u001b[43m{\u001b[49m\u001b[38;5;124;43m\"\u001b[39;49m\u001b[38;5;124;43mtype\u001b[39;49m\u001b[38;5;124;43m\"\u001b[39;49m\u001b[43m:\u001b[49m\u001b[43m \u001b[49m\u001b[38;5;124;43m\"\u001b[39;49m\u001b[38;5;124;43mtext\u001b[39;49m\u001b[38;5;124;43m\"\u001b[39;49m\u001b[43m,\u001b[49m\u001b[43m \u001b[49m\u001b[38;5;124;43m\"\u001b[39;49m\u001b[38;5;124;43mtext\u001b[39;49m\u001b[38;5;124;43m\"\u001b[39;49m\u001b[43m:\u001b[49m\u001b[43m \u001b[49m\u001b[43mprompt\u001b[49m\u001b[43m}\u001b[49m\u001b[43m,\u001b[49m\n\u001b[0;32m     20\u001b[0m \u001b[43m                    \u001b[49m\u001b[43m{\u001b[49m\n\u001b[0;32m     21\u001b[0m \u001b[43m                        \u001b[49m\u001b[38;5;124;43m\"\u001b[39;49m\u001b[38;5;124;43mtype\u001b[39;49m\u001b[38;5;124;43m\"\u001b[39;49m\u001b[43m:\u001b[49m\u001b[43m \u001b[49m\u001b[38;5;124;43m\"\u001b[39;49m\u001b[38;5;124;43mimage_url\u001b[39;49m\u001b[38;5;124;43m\"\u001b[39;49m\u001b[43m,\u001b[49m\n\u001b[0;32m     22\u001b[0m \u001b[43m                        \u001b[49m\u001b[38;5;124;43m\"\u001b[39;49m\u001b[38;5;124;43mimage_url\u001b[39;49m\u001b[38;5;124;43m\"\u001b[39;49m\u001b[43m:\u001b[49m\u001b[43m \u001b[49m\u001b[43m{\u001b[49m\u001b[38;5;124;43m\"\u001b[39;49m\u001b[38;5;124;43murl\u001b[39;49m\u001b[38;5;124;43m\"\u001b[39;49m\u001b[43m:\u001b[49m\u001b[43m \u001b[49m\u001b[38;5;124;43mf\u001b[39;49m\u001b[38;5;124;43m\"\u001b[39;49m\u001b[38;5;124;43mdata:image/jpeg;base64,\u001b[39;49m\u001b[38;5;132;43;01m{\u001b[39;49;00m\u001b[43mbase64_encoded_data\u001b[49m\u001b[38;5;132;43;01m}\u001b[39;49;00m\u001b[38;5;124;43m\"\u001b[39;49m\u001b[43m}\u001b[49m\u001b[43m,\u001b[49m\n\u001b[0;32m     23\u001b[0m \u001b[43m                    \u001b[49m\u001b[43m}\u001b[49m\u001b[43m,\u001b[49m\n\u001b[0;32m     24\u001b[0m \u001b[43m                \u001b[49m\u001b[43m]\u001b[49m\u001b[43m,\u001b[49m\n\u001b[0;32m     25\u001b[0m \u001b[43m            \u001b[49m\u001b[43m}\u001b[49m\n\u001b[0;32m     26\u001b[0m \u001b[43m        \u001b[49m\u001b[43m]\u001b[49m\u001b[43m,\u001b[49m\n\u001b[0;32m     27\u001b[0m \u001b[43m    \u001b[49m\u001b[43m)\u001b[49m\n\u001b[0;32m     28\u001b[0m     \u001b[38;5;28;01mreturn\u001b[39;00m response\n",
      "File \u001b[1;32m~\\AppData\\Roaming\\Python\\Python313\\site-packages\\openai\\_utils\\_utils.py:287\u001b[0m, in \u001b[0;36mrequired_args.<locals>.inner.<locals>.wrapper\u001b[1;34m(*args, **kwargs)\u001b[0m\n\u001b[0;32m    285\u001b[0m             msg \u001b[38;5;241m=\u001b[39m \u001b[38;5;124mf\u001b[39m\u001b[38;5;124m\"\u001b[39m\u001b[38;5;124mMissing required argument: \u001b[39m\u001b[38;5;132;01m{\u001b[39;00mquote(missing[\u001b[38;5;241m0\u001b[39m])\u001b[38;5;132;01m}\u001b[39;00m\u001b[38;5;124m\"\u001b[39m\n\u001b[0;32m    286\u001b[0m     \u001b[38;5;28;01mraise\u001b[39;00m \u001b[38;5;167;01mTypeError\u001b[39;00m(msg)\n\u001b[1;32m--> 287\u001b[0m \u001b[38;5;28;01mreturn\u001b[39;00m \u001b[43mfunc\u001b[49m\u001b[43m(\u001b[49m\u001b[38;5;241;43m*\u001b[39;49m\u001b[43margs\u001b[49m\u001b[43m,\u001b[49m\u001b[43m \u001b[49m\u001b[38;5;241;43m*\u001b[39;49m\u001b[38;5;241;43m*\u001b[39;49m\u001b[43mkwargs\u001b[49m\u001b[43m)\u001b[49m\n",
      "File \u001b[1;32m~\\AppData\\Roaming\\Python\\Python313\\site-packages\\openai\\resources\\chat\\completions\\completions.py:925\u001b[0m, in \u001b[0;36mCompletions.create\u001b[1;34m(self, messages, model, audio, frequency_penalty, function_call, functions, logit_bias, logprobs, max_completion_tokens, max_tokens, metadata, modalities, n, parallel_tool_calls, prediction, presence_penalty, reasoning_effort, response_format, seed, service_tier, stop, store, stream, stream_options, temperature, tool_choice, tools, top_logprobs, top_p, user, web_search_options, extra_headers, extra_query, extra_body, timeout)\u001b[0m\n\u001b[0;32m    882\u001b[0m \u001b[38;5;129m@required_args\u001b[39m([\u001b[38;5;124m\"\u001b[39m\u001b[38;5;124mmessages\u001b[39m\u001b[38;5;124m\"\u001b[39m, \u001b[38;5;124m\"\u001b[39m\u001b[38;5;124mmodel\u001b[39m\u001b[38;5;124m\"\u001b[39m], [\u001b[38;5;124m\"\u001b[39m\u001b[38;5;124mmessages\u001b[39m\u001b[38;5;124m\"\u001b[39m, \u001b[38;5;124m\"\u001b[39m\u001b[38;5;124mmodel\u001b[39m\u001b[38;5;124m\"\u001b[39m, \u001b[38;5;124m\"\u001b[39m\u001b[38;5;124mstream\u001b[39m\u001b[38;5;124m\"\u001b[39m])\n\u001b[0;32m    883\u001b[0m \u001b[38;5;28;01mdef\u001b[39;00m\u001b[38;5;250m \u001b[39m\u001b[38;5;21mcreate\u001b[39m(\n\u001b[0;32m    884\u001b[0m     \u001b[38;5;28mself\u001b[39m,\n\u001b[1;32m   (...)\u001b[0m\n\u001b[0;32m    922\u001b[0m     timeout: \u001b[38;5;28mfloat\u001b[39m \u001b[38;5;241m|\u001b[39m httpx\u001b[38;5;241m.\u001b[39mTimeout \u001b[38;5;241m|\u001b[39m \u001b[38;5;28;01mNone\u001b[39;00m \u001b[38;5;241m|\u001b[39m NotGiven \u001b[38;5;241m=\u001b[39m NOT_GIVEN,\n\u001b[0;32m    923\u001b[0m ) \u001b[38;5;241m-\u001b[39m\u001b[38;5;241m>\u001b[39m ChatCompletion \u001b[38;5;241m|\u001b[39m Stream[ChatCompletionChunk]:\n\u001b[0;32m    924\u001b[0m     validate_response_format(response_format)\n\u001b[1;32m--> 925\u001b[0m     \u001b[38;5;28;01mreturn\u001b[39;00m \u001b[38;5;28;43mself\u001b[39;49m\u001b[38;5;241;43m.\u001b[39;49m\u001b[43m_post\u001b[49m\u001b[43m(\u001b[49m\n\u001b[0;32m    926\u001b[0m \u001b[43m        \u001b[49m\u001b[38;5;124;43m\"\u001b[39;49m\u001b[38;5;124;43m/chat/completions\u001b[39;49m\u001b[38;5;124;43m\"\u001b[39;49m\u001b[43m,\u001b[49m\n\u001b[0;32m    927\u001b[0m \u001b[43m        \u001b[49m\u001b[43mbody\u001b[49m\u001b[38;5;241;43m=\u001b[39;49m\u001b[43mmaybe_transform\u001b[49m\u001b[43m(\u001b[49m\n\u001b[0;32m    928\u001b[0m \u001b[43m            \u001b[49m\u001b[43m{\u001b[49m\n\u001b[0;32m    929\u001b[0m \u001b[43m                \u001b[49m\u001b[38;5;124;43m\"\u001b[39;49m\u001b[38;5;124;43mmessages\u001b[39;49m\u001b[38;5;124;43m\"\u001b[39;49m\u001b[43m:\u001b[49m\u001b[43m \u001b[49m\u001b[43mmessages\u001b[49m\u001b[43m,\u001b[49m\n\u001b[0;32m    930\u001b[0m \u001b[43m                \u001b[49m\u001b[38;5;124;43m\"\u001b[39;49m\u001b[38;5;124;43mmodel\u001b[39;49m\u001b[38;5;124;43m\"\u001b[39;49m\u001b[43m:\u001b[49m\u001b[43m \u001b[49m\u001b[43mmodel\u001b[49m\u001b[43m,\u001b[49m\n\u001b[0;32m    931\u001b[0m \u001b[43m                \u001b[49m\u001b[38;5;124;43m\"\u001b[39;49m\u001b[38;5;124;43maudio\u001b[39;49m\u001b[38;5;124;43m\"\u001b[39;49m\u001b[43m:\u001b[49m\u001b[43m \u001b[49m\u001b[43maudio\u001b[49m\u001b[43m,\u001b[49m\n\u001b[0;32m    932\u001b[0m \u001b[43m                \u001b[49m\u001b[38;5;124;43m\"\u001b[39;49m\u001b[38;5;124;43mfrequency_penalty\u001b[39;49m\u001b[38;5;124;43m\"\u001b[39;49m\u001b[43m:\u001b[49m\u001b[43m \u001b[49m\u001b[43mfrequency_penalty\u001b[49m\u001b[43m,\u001b[49m\n\u001b[0;32m    933\u001b[0m \u001b[43m                \u001b[49m\u001b[38;5;124;43m\"\u001b[39;49m\u001b[38;5;124;43mfunction_call\u001b[39;49m\u001b[38;5;124;43m\"\u001b[39;49m\u001b[43m:\u001b[49m\u001b[43m \u001b[49m\u001b[43mfunction_call\u001b[49m\u001b[43m,\u001b[49m\n\u001b[0;32m    934\u001b[0m \u001b[43m                \u001b[49m\u001b[38;5;124;43m\"\u001b[39;49m\u001b[38;5;124;43mfunctions\u001b[39;49m\u001b[38;5;124;43m\"\u001b[39;49m\u001b[43m:\u001b[49m\u001b[43m \u001b[49m\u001b[43mfunctions\u001b[49m\u001b[43m,\u001b[49m\n\u001b[0;32m    935\u001b[0m \u001b[43m                \u001b[49m\u001b[38;5;124;43m\"\u001b[39;49m\u001b[38;5;124;43mlogit_bias\u001b[39;49m\u001b[38;5;124;43m\"\u001b[39;49m\u001b[43m:\u001b[49m\u001b[43m \u001b[49m\u001b[43mlogit_bias\u001b[49m\u001b[43m,\u001b[49m\n\u001b[0;32m    936\u001b[0m \u001b[43m                \u001b[49m\u001b[38;5;124;43m\"\u001b[39;49m\u001b[38;5;124;43mlogprobs\u001b[39;49m\u001b[38;5;124;43m\"\u001b[39;49m\u001b[43m:\u001b[49m\u001b[43m \u001b[49m\u001b[43mlogprobs\u001b[49m\u001b[43m,\u001b[49m\n\u001b[0;32m    937\u001b[0m \u001b[43m                \u001b[49m\u001b[38;5;124;43m\"\u001b[39;49m\u001b[38;5;124;43mmax_completion_tokens\u001b[39;49m\u001b[38;5;124;43m\"\u001b[39;49m\u001b[43m:\u001b[49m\u001b[43m \u001b[49m\u001b[43mmax_completion_tokens\u001b[49m\u001b[43m,\u001b[49m\n\u001b[0;32m    938\u001b[0m \u001b[43m                \u001b[49m\u001b[38;5;124;43m\"\u001b[39;49m\u001b[38;5;124;43mmax_tokens\u001b[39;49m\u001b[38;5;124;43m\"\u001b[39;49m\u001b[43m:\u001b[49m\u001b[43m \u001b[49m\u001b[43mmax_tokens\u001b[49m\u001b[43m,\u001b[49m\n\u001b[0;32m    939\u001b[0m \u001b[43m                \u001b[49m\u001b[38;5;124;43m\"\u001b[39;49m\u001b[38;5;124;43mmetadata\u001b[39;49m\u001b[38;5;124;43m\"\u001b[39;49m\u001b[43m:\u001b[49m\u001b[43m \u001b[49m\u001b[43mmetadata\u001b[49m\u001b[43m,\u001b[49m\n\u001b[0;32m    940\u001b[0m \u001b[43m                \u001b[49m\u001b[38;5;124;43m\"\u001b[39;49m\u001b[38;5;124;43mmodalities\u001b[39;49m\u001b[38;5;124;43m\"\u001b[39;49m\u001b[43m:\u001b[49m\u001b[43m \u001b[49m\u001b[43mmodalities\u001b[49m\u001b[43m,\u001b[49m\n\u001b[0;32m    941\u001b[0m \u001b[43m                \u001b[49m\u001b[38;5;124;43m\"\u001b[39;49m\u001b[38;5;124;43mn\u001b[39;49m\u001b[38;5;124;43m\"\u001b[39;49m\u001b[43m:\u001b[49m\u001b[43m \u001b[49m\u001b[43mn\u001b[49m\u001b[43m,\u001b[49m\n\u001b[0;32m    942\u001b[0m \u001b[43m                \u001b[49m\u001b[38;5;124;43m\"\u001b[39;49m\u001b[38;5;124;43mparallel_tool_calls\u001b[39;49m\u001b[38;5;124;43m\"\u001b[39;49m\u001b[43m:\u001b[49m\u001b[43m \u001b[49m\u001b[43mparallel_tool_calls\u001b[49m\u001b[43m,\u001b[49m\n\u001b[0;32m    943\u001b[0m \u001b[43m                \u001b[49m\u001b[38;5;124;43m\"\u001b[39;49m\u001b[38;5;124;43mprediction\u001b[39;49m\u001b[38;5;124;43m\"\u001b[39;49m\u001b[43m:\u001b[49m\u001b[43m \u001b[49m\u001b[43mprediction\u001b[49m\u001b[43m,\u001b[49m\n\u001b[0;32m    944\u001b[0m \u001b[43m                \u001b[49m\u001b[38;5;124;43m\"\u001b[39;49m\u001b[38;5;124;43mpresence_penalty\u001b[39;49m\u001b[38;5;124;43m\"\u001b[39;49m\u001b[43m:\u001b[49m\u001b[43m \u001b[49m\u001b[43mpresence_penalty\u001b[49m\u001b[43m,\u001b[49m\n\u001b[0;32m    945\u001b[0m \u001b[43m                \u001b[49m\u001b[38;5;124;43m\"\u001b[39;49m\u001b[38;5;124;43mreasoning_effort\u001b[39;49m\u001b[38;5;124;43m\"\u001b[39;49m\u001b[43m:\u001b[49m\u001b[43m \u001b[49m\u001b[43mreasoning_effort\u001b[49m\u001b[43m,\u001b[49m\n\u001b[0;32m    946\u001b[0m \u001b[43m                \u001b[49m\u001b[38;5;124;43m\"\u001b[39;49m\u001b[38;5;124;43mresponse_format\u001b[39;49m\u001b[38;5;124;43m\"\u001b[39;49m\u001b[43m:\u001b[49m\u001b[43m \u001b[49m\u001b[43mresponse_format\u001b[49m\u001b[43m,\u001b[49m\n\u001b[0;32m    947\u001b[0m \u001b[43m                \u001b[49m\u001b[38;5;124;43m\"\u001b[39;49m\u001b[38;5;124;43mseed\u001b[39;49m\u001b[38;5;124;43m\"\u001b[39;49m\u001b[43m:\u001b[49m\u001b[43m \u001b[49m\u001b[43mseed\u001b[49m\u001b[43m,\u001b[49m\n\u001b[0;32m    948\u001b[0m \u001b[43m                \u001b[49m\u001b[38;5;124;43m\"\u001b[39;49m\u001b[38;5;124;43mservice_tier\u001b[39;49m\u001b[38;5;124;43m\"\u001b[39;49m\u001b[43m:\u001b[49m\u001b[43m \u001b[49m\u001b[43mservice_tier\u001b[49m\u001b[43m,\u001b[49m\n\u001b[0;32m    949\u001b[0m \u001b[43m                \u001b[49m\u001b[38;5;124;43m\"\u001b[39;49m\u001b[38;5;124;43mstop\u001b[39;49m\u001b[38;5;124;43m\"\u001b[39;49m\u001b[43m:\u001b[49m\u001b[43m \u001b[49m\u001b[43mstop\u001b[49m\u001b[43m,\u001b[49m\n\u001b[0;32m    950\u001b[0m \u001b[43m                \u001b[49m\u001b[38;5;124;43m\"\u001b[39;49m\u001b[38;5;124;43mstore\u001b[39;49m\u001b[38;5;124;43m\"\u001b[39;49m\u001b[43m:\u001b[49m\u001b[43m \u001b[49m\u001b[43mstore\u001b[49m\u001b[43m,\u001b[49m\n\u001b[0;32m    951\u001b[0m \u001b[43m                \u001b[49m\u001b[38;5;124;43m\"\u001b[39;49m\u001b[38;5;124;43mstream\u001b[39;49m\u001b[38;5;124;43m\"\u001b[39;49m\u001b[43m:\u001b[49m\u001b[43m \u001b[49m\u001b[43mstream\u001b[49m\u001b[43m,\u001b[49m\n\u001b[0;32m    952\u001b[0m \u001b[43m                \u001b[49m\u001b[38;5;124;43m\"\u001b[39;49m\u001b[38;5;124;43mstream_options\u001b[39;49m\u001b[38;5;124;43m\"\u001b[39;49m\u001b[43m:\u001b[49m\u001b[43m \u001b[49m\u001b[43mstream_options\u001b[49m\u001b[43m,\u001b[49m\n\u001b[0;32m    953\u001b[0m \u001b[43m                \u001b[49m\u001b[38;5;124;43m\"\u001b[39;49m\u001b[38;5;124;43mtemperature\u001b[39;49m\u001b[38;5;124;43m\"\u001b[39;49m\u001b[43m:\u001b[49m\u001b[43m \u001b[49m\u001b[43mtemperature\u001b[49m\u001b[43m,\u001b[49m\n\u001b[0;32m    954\u001b[0m \u001b[43m                \u001b[49m\u001b[38;5;124;43m\"\u001b[39;49m\u001b[38;5;124;43mtool_choice\u001b[39;49m\u001b[38;5;124;43m\"\u001b[39;49m\u001b[43m:\u001b[49m\u001b[43m \u001b[49m\u001b[43mtool_choice\u001b[49m\u001b[43m,\u001b[49m\n\u001b[0;32m    955\u001b[0m \u001b[43m                \u001b[49m\u001b[38;5;124;43m\"\u001b[39;49m\u001b[38;5;124;43mtools\u001b[39;49m\u001b[38;5;124;43m\"\u001b[39;49m\u001b[43m:\u001b[49m\u001b[43m \u001b[49m\u001b[43mtools\u001b[49m\u001b[43m,\u001b[49m\n\u001b[0;32m    956\u001b[0m \u001b[43m                \u001b[49m\u001b[38;5;124;43m\"\u001b[39;49m\u001b[38;5;124;43mtop_logprobs\u001b[39;49m\u001b[38;5;124;43m\"\u001b[39;49m\u001b[43m:\u001b[49m\u001b[43m \u001b[49m\u001b[43mtop_logprobs\u001b[49m\u001b[43m,\u001b[49m\n\u001b[0;32m    957\u001b[0m \u001b[43m                \u001b[49m\u001b[38;5;124;43m\"\u001b[39;49m\u001b[38;5;124;43mtop_p\u001b[39;49m\u001b[38;5;124;43m\"\u001b[39;49m\u001b[43m:\u001b[49m\u001b[43m \u001b[49m\u001b[43mtop_p\u001b[49m\u001b[43m,\u001b[49m\n\u001b[0;32m    958\u001b[0m \u001b[43m                \u001b[49m\u001b[38;5;124;43m\"\u001b[39;49m\u001b[38;5;124;43muser\u001b[39;49m\u001b[38;5;124;43m\"\u001b[39;49m\u001b[43m:\u001b[49m\u001b[43m \u001b[49m\u001b[43muser\u001b[49m\u001b[43m,\u001b[49m\n\u001b[0;32m    959\u001b[0m \u001b[43m                \u001b[49m\u001b[38;5;124;43m\"\u001b[39;49m\u001b[38;5;124;43mweb_search_options\u001b[39;49m\u001b[38;5;124;43m\"\u001b[39;49m\u001b[43m:\u001b[49m\u001b[43m \u001b[49m\u001b[43mweb_search_options\u001b[49m\u001b[43m,\u001b[49m\n\u001b[0;32m    960\u001b[0m \u001b[43m            \u001b[49m\u001b[43m}\u001b[49m\u001b[43m,\u001b[49m\n\u001b[0;32m    961\u001b[0m \u001b[43m            \u001b[49m\u001b[43mcompletion_create_params\u001b[49m\u001b[38;5;241;43m.\u001b[39;49m\u001b[43mCompletionCreateParamsStreaming\u001b[49m\n\u001b[0;32m    962\u001b[0m \u001b[43m            \u001b[49m\u001b[38;5;28;43;01mif\u001b[39;49;00m\u001b[43m \u001b[49m\u001b[43mstream\u001b[49m\n\u001b[0;32m    963\u001b[0m \u001b[43m            \u001b[49m\u001b[38;5;28;43;01melse\u001b[39;49;00m\u001b[43m \u001b[49m\u001b[43mcompletion_create_params\u001b[49m\u001b[38;5;241;43m.\u001b[39;49m\u001b[43mCompletionCreateParamsNonStreaming\u001b[49m\u001b[43m,\u001b[49m\n\u001b[0;32m    964\u001b[0m \u001b[43m        \u001b[49m\u001b[43m)\u001b[49m\u001b[43m,\u001b[49m\n\u001b[0;32m    965\u001b[0m \u001b[43m        \u001b[49m\u001b[43moptions\u001b[49m\u001b[38;5;241;43m=\u001b[39;49m\u001b[43mmake_request_options\u001b[49m\u001b[43m(\u001b[49m\n\u001b[0;32m    966\u001b[0m \u001b[43m            \u001b[49m\u001b[43mextra_headers\u001b[49m\u001b[38;5;241;43m=\u001b[39;49m\u001b[43mextra_headers\u001b[49m\u001b[43m,\u001b[49m\u001b[43m \u001b[49m\u001b[43mextra_query\u001b[49m\u001b[38;5;241;43m=\u001b[39;49m\u001b[43mextra_query\u001b[49m\u001b[43m,\u001b[49m\u001b[43m \u001b[49m\u001b[43mextra_body\u001b[49m\u001b[38;5;241;43m=\u001b[39;49m\u001b[43mextra_body\u001b[49m\u001b[43m,\u001b[49m\u001b[43m \u001b[49m\u001b[43mtimeout\u001b[49m\u001b[38;5;241;43m=\u001b[39;49m\u001b[43mtimeout\u001b[49m\n\u001b[0;32m    967\u001b[0m \u001b[43m        \u001b[49m\u001b[43m)\u001b[49m\u001b[43m,\u001b[49m\n\u001b[0;32m    968\u001b[0m \u001b[43m        \u001b[49m\u001b[43mcast_to\u001b[49m\u001b[38;5;241;43m=\u001b[39;49m\u001b[43mChatCompletion\u001b[49m\u001b[43m,\u001b[49m\n\u001b[0;32m    969\u001b[0m \u001b[43m        \u001b[49m\u001b[43mstream\u001b[49m\u001b[38;5;241;43m=\u001b[39;49m\u001b[43mstream\u001b[49m\u001b[43m \u001b[49m\u001b[38;5;129;43;01mor\u001b[39;49;00m\u001b[43m \u001b[49m\u001b[38;5;28;43;01mFalse\u001b[39;49;00m\u001b[43m,\u001b[49m\n\u001b[0;32m    970\u001b[0m \u001b[43m        \u001b[49m\u001b[43mstream_cls\u001b[49m\u001b[38;5;241;43m=\u001b[39;49m\u001b[43mStream\u001b[49m\u001b[43m[\u001b[49m\u001b[43mChatCompletionChunk\u001b[49m\u001b[43m]\u001b[49m\u001b[43m,\u001b[49m\n\u001b[0;32m    971\u001b[0m \u001b[43m    \u001b[49m\u001b[43m)\u001b[49m\n",
      "File \u001b[1;32m~\\AppData\\Roaming\\Python\\Python313\\site-packages\\openai\\_base_client.py:1239\u001b[0m, in \u001b[0;36mSyncAPIClient.post\u001b[1;34m(self, path, cast_to, body, options, files, stream, stream_cls)\u001b[0m\n\u001b[0;32m   1225\u001b[0m \u001b[38;5;28;01mdef\u001b[39;00m\u001b[38;5;250m \u001b[39m\u001b[38;5;21mpost\u001b[39m(\n\u001b[0;32m   1226\u001b[0m     \u001b[38;5;28mself\u001b[39m,\n\u001b[0;32m   1227\u001b[0m     path: \u001b[38;5;28mstr\u001b[39m,\n\u001b[1;32m   (...)\u001b[0m\n\u001b[0;32m   1234\u001b[0m     stream_cls: \u001b[38;5;28mtype\u001b[39m[_StreamT] \u001b[38;5;241m|\u001b[39m \u001b[38;5;28;01mNone\u001b[39;00m \u001b[38;5;241m=\u001b[39m \u001b[38;5;28;01mNone\u001b[39;00m,\n\u001b[0;32m   1235\u001b[0m ) \u001b[38;5;241m-\u001b[39m\u001b[38;5;241m>\u001b[39m ResponseT \u001b[38;5;241m|\u001b[39m _StreamT:\n\u001b[0;32m   1236\u001b[0m     opts \u001b[38;5;241m=\u001b[39m FinalRequestOptions\u001b[38;5;241m.\u001b[39mconstruct(\n\u001b[0;32m   1237\u001b[0m         method\u001b[38;5;241m=\u001b[39m\u001b[38;5;124m\"\u001b[39m\u001b[38;5;124mpost\u001b[39m\u001b[38;5;124m\"\u001b[39m, url\u001b[38;5;241m=\u001b[39mpath, json_data\u001b[38;5;241m=\u001b[39mbody, files\u001b[38;5;241m=\u001b[39mto_httpx_files(files), \u001b[38;5;241m*\u001b[39m\u001b[38;5;241m*\u001b[39moptions\n\u001b[0;32m   1238\u001b[0m     )\n\u001b[1;32m-> 1239\u001b[0m     \u001b[38;5;28;01mreturn\u001b[39;00m cast(ResponseT, \u001b[38;5;28;43mself\u001b[39;49m\u001b[38;5;241;43m.\u001b[39;49m\u001b[43mrequest\u001b[49m\u001b[43m(\u001b[49m\u001b[43mcast_to\u001b[49m\u001b[43m,\u001b[49m\u001b[43m \u001b[49m\u001b[43mopts\u001b[49m\u001b[43m,\u001b[49m\u001b[43m \u001b[49m\u001b[43mstream\u001b[49m\u001b[38;5;241;43m=\u001b[39;49m\u001b[43mstream\u001b[49m\u001b[43m,\u001b[49m\u001b[43m \u001b[49m\u001b[43mstream_cls\u001b[49m\u001b[38;5;241;43m=\u001b[39;49m\u001b[43mstream_cls\u001b[49m\u001b[43m)\u001b[49m)\n",
      "File \u001b[1;32m~\\AppData\\Roaming\\Python\\Python313\\site-packages\\openai\\_base_client.py:1034\u001b[0m, in \u001b[0;36mSyncAPIClient.request\u001b[1;34m(self, cast_to, options, stream, stream_cls)\u001b[0m\n\u001b[0;32m   1031\u001b[0m             err\u001b[38;5;241m.\u001b[39mresponse\u001b[38;5;241m.\u001b[39mread()\n\u001b[0;32m   1033\u001b[0m         log\u001b[38;5;241m.\u001b[39mdebug(\u001b[38;5;124m\"\u001b[39m\u001b[38;5;124mRe-raising status error\u001b[39m\u001b[38;5;124m\"\u001b[39m)\n\u001b[1;32m-> 1034\u001b[0m         \u001b[38;5;28;01mraise\u001b[39;00m \u001b[38;5;28mself\u001b[39m\u001b[38;5;241m.\u001b[39m_make_status_error_from_response(err\u001b[38;5;241m.\u001b[39mresponse) \u001b[38;5;28;01mfrom\u001b[39;00m\u001b[38;5;250m \u001b[39m\u001b[38;5;28;01mNone\u001b[39;00m\n\u001b[0;32m   1036\u001b[0m     \u001b[38;5;28;01mbreak\u001b[39;00m\n\u001b[0;32m   1038\u001b[0m \u001b[38;5;28;01massert\u001b[39;00m response \u001b[38;5;129;01mis\u001b[39;00m \u001b[38;5;129;01mnot\u001b[39;00m \u001b[38;5;28;01mNone\u001b[39;00m, \u001b[38;5;124m\"\u001b[39m\u001b[38;5;124mcould not resolve response (should never happen)\u001b[39m\u001b[38;5;124m\"\u001b[39m\n",
      "\u001b[1;31mRateLimitError\u001b[0m: Error code: 429 - {'error': {'message': 'Rate limit reached for gpt-4o-mini in organization org-tQSDtxvbq4HF6uV9Q01xVu6z on tokens per min (TPM): Limit 200000, Used 200000, Requested 860. Please try again in 258ms. Visit https://platform.openai.com/account/rate-limits to learn more.', 'type': 'tokens', 'param': None, 'code': 'rate_limit_exceeded'}}"
     ]
    }
   ],
   "source": [
    "padding = 10  # Adjust the padding value as needed\n",
    "\n",
    "while cap.isOpened():\n",
    "    success, im0 = cap.read()\n",
    "\n",
    "    if not success:\n",
    "        break\n",
    "\n",
    "    results = model.predict(im0)[0].boxes\n",
    "    boxes = results.xyxy.cpu()\n",
    "    clss = results.cls.cpu()\n",
    "\n",
    "    ann = Annotator(im0, line_width=3)\n",
    "\n",
    "    for (\n",
    "        cls,\n",
    "        box,\n",
    "    ) in zip(clss, boxes):\n",
    "        height, width, _ = im0.shape  # Get the dimensions of the original image\n",
    "\n",
    "        # Calculate padded coordinates\n",
    "        x1 = max(int(box[0]) - padding, 0)\n",
    "        y1 = max(int(box[1]) - padding, 0)\n",
    "        x2 = min(int(box[2]) + padding, width)\n",
    "        y2 = min(int(box[3]) + padding, height)\n",
    "\n",
    "        # Crop the object with padding and encode the numpy array to base64 format.\n",
    "        base64_im0 = base64.b64encode(cv2.imencode(\".jpg\", im0[y1:y2, x1:x2])[1]).decode(\"utf-8\")\n",
    "\n",
    "        response = extract_text(base64_im0).choices[0].message.content\n",
    "\n",
    "        print(f\"Extracted text: {response}\")\n",
    "\n",
    "        ann.box_label(box, label=str(response), color=colors(cls, True))  # Draw the bounding boxes\n",
    "\n",
    "    video_writer.write(im0)  # Write the processed video frame\n",
    "\n",
    "cap.release()  # Release the video capture\n",
    "video_writer.release()  # Release the video writer"
   ]
  },
  {
   "cell_type": "markdown",
   "metadata": {
    "id": "1X_dfSSH3ex5"
   },
   "source": [
    "<img align=\"left\" src=\"https://github.com/user-attachments/assets/d9f5efe7-d058-48f4-9515-f7ccf6084c2f\" height=\"640\">"
   ]
  }
 ],
 "metadata": {
  "accelerator": "GPU",
  "colab": {
   "gpuType": "T4",
   "provenance": []
  },
  "kernelspec": {
   "display_name": "Python 3",
   "name": "python3"
  },
  "language_info": {
   "codemirror_mode": {
    "name": "ipython",
    "version": 3
   },
   "file_extension": ".py",
   "mimetype": "text/x-python",
   "name": "python",
   "nbconvert_exporter": "python",
   "pygments_lexer": "ipython3",
   "version": "3.13.1"
  }
 },
 "nbformat": 4,
 "nbformat_minor": 0
}
